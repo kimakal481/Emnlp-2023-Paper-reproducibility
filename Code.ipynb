{
  "nbformat": 4,
  "nbformat_minor": 0,
  "metadata": {
    "colab": {
      "provenance": []
    },
    "kernelspec": {
      "name": "python3",
      "display_name": "Python 3"
    },
    "language_info": {
      "name": "python"
    }
  },
  "cells": [
    {
      "cell_type": "markdown",
      "source": [
        "1️⃣ Installation & Environment Setup\n",
        "First, ensure you have Python 3.8+ installed. Then, install the necessary dependencies:"
      ],
      "metadata": {
        "id": "G7nQoQnFvTez"
      }
    },
    {
      "cell_type": "code",
      "execution_count": null,
      "metadata": {
        "id": "zfAsq3S6ugCH"
      },
      "outputs": [],
      "source": [
        "pip install torch transformers datasets evaluate rouge-score accelerate pyyaml\n"
      ]
    },
    {
      "cell_type": "markdown",
      "source": [
        "2️⃣ Download the Model & Dataset\n",
        "Clone the repository and navigate to the directory:"
      ],
      "metadata": {
        "id": "8CoFzD3IvrW3"
      }
    },
    {
      "cell_type": "code",
      "source": [
        "git clone https://github.com/your-repo/ALCE-reproducibility.git\n",
        "cd ALCE-reproducibility\n"
      ],
      "metadata": {
        "id": "TQeSxkXpvqAR"
      },
      "execution_count": null,
      "outputs": []
    },
    {
      "cell_type": "markdown",
      "source": [
        "Download Dataset"
      ],
      "metadata": {
        "id": "CRDVcAYTxw1l"
      }
    },
    {
      "cell_type": "code",
      "source": [
        "!bash download.sh"
      ],
      "metadata": {
        "id": "t2zKaUnEw-o3"
      },
      "execution_count": null,
      "outputs": []
    },
    {
      "cell_type": "markdown",
      "source": [
        "Download the Mistral-7B model:"
      ],
      "metadata": {
        "id": "ZoAFVWxgv36r"
      }
    },
    {
      "cell_type": "code",
      "source": [
        "from transformers import AutoModelForCausalLM, AutoTokenizer\n",
        "import torch\n",
        "\n",
        "model_name = \"mistralai/Mistral-7B-v0.1\"\n",
        "model = AutoModelForCausalLM.from_pretrained(model_name, torch_dtype=\"auto\", device_map=\"auto\",offload_folder=\"ALCE/offloader\")\n",
        "tokenizer = AutoTokenizer.from_pretrained(model_name)\n",
        "tokenizer = AutoTokenizer.from_pretrained(model_name)\n"
      ],
      "metadata": {
        "id": "pV-MHi3nv73x"
      },
      "execution_count": null,
      "outputs": []
    },
    {
      "cell_type": "markdown",
      "source": [
        "3️⃣ Running the Model\n",
        "Run inference on the ASQA benchmark dataset:"
      ],
      "metadata": {
        "id": "rjs7XDq2xn9p"
      }
    },
    {
      "cell_type": "code",
      "source": [
        "!python run.py --config configs/asqa_turbo_shot2_ndoc5_gtr_default.yaml --model mistralai/Mistral-7B-v0.1\n"
      ],
      "metadata": {
        "id": "T2wIulWrxS0P"
      },
      "execution_count": null,
      "outputs": []
    },
    {
      "cell_type": "markdown",
      "source": [
        "4️⃣ Evaluation\n",
        "To evaluate the generated citations, use the evaluation script:"
      ],
      "metadata": {
        "id": "woAzHGgOyiDn"
      }
    },
    {
      "cell_type": "code",
      "source": [
        "!python eval.py --f {'result/asqa-mistral-7b-instruct-gtr-shot2-ndoc5-42.json'} --citations --qa --mauve\n"
      ],
      "metadata": {
        "id": "3JaYQQxIv-Nr"
      },
      "execution_count": null,
      "outputs": []
    }
  ]
}